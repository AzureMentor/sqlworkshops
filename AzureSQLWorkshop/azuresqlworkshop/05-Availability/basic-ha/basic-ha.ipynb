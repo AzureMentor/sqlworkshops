{
    "metadata": {
        "kernelspec": {
            "name": "powershell",
            "display_name": "PowerShell"
        },
        "language_info": {
            "name": "powershell",
            "codemirror_mode": "shell",
            "mimetype": "text/x-sh",
            "file_extension": ".ps1"
        }
    },
    "nbformat_minor": 2,
    "nbformat": 4,
    "cells": [
        {
            "cell_type": "markdown",
            "source": [
                "# Activity 2: Basic high availability in Azure SQL Database\r\n",
                "\r\n",
                "#### <i>The Azure SQL Workshop - Module 5</i>\r\n",
                "\r\n",
                "<p style=\"border-bottom: 1px solid lightgrey;\"></p>\r\n",
                "\r\n",
                "In the module, you learned about the high availability architecture of Azure SQL. In this activity, you'll get to see how the General purpose tier of Azure SQL Database behaves similarly to a Failover Cluster Instance on-prem. The difference is that on-prem, this can be time-consuming or tricky to set up, but with Azure SQL, you get it out of the box.  \r\n",
                "\r\n",
                "The activity will use the ostress tool you used in Module 4 to create a workload. You'll then initiate a failover using the Azure PowerShell module, and observe the effect it has on the ostress workload.  \r\n",
                "\r\n",
                "\r\n",
                "**Set up**   \r\n",
                "\r\n",
                "0. You should have opened this file using Azure Data Studio. If you didn't, please refer to Module 2 Activity 3 in the readme.md file to get set up.  \r\n",
                "1. In the bar at the top of this screen, confirm or change the \"Kernel\" to **PowerShell**. This determines what language the code blocks in the file are. In this case, that language is PowerShell.  \r\n",
                "2. Confirming the Kernel is **PowerShell**, for \"Attach to\", it should read **localhost**.  \r\n",
                "\r\n",
                "Now that you're set up, you should read the text cells and \"Run\" the code cells by selecting the play button that appears in the left of a code cell when you hover over it.  \r\n",
                ""
            ],
            "metadata": {
                "azdata_cell_guid": "5907a06a-b683-4e00-b847-8c033d93cbc7"
            }
        },
        {
            "cell_type": "markdown",
            "source": [
                "## Basic high availability (with no configuration!) in Azure SQL\r\n",
                "\r\n",
                "In order to complete this activity, you will complete the following steps:\r\n",
                "\r\n",
                "0. Confirm environment is properly configured  \r\n",
                "1. Run the ostress workload  \r\n",
                "1. Use PowerShell to initiate a failover  \r\n",
                "1. Observe the results in ostress  \r\n",
                "1. (Bonus) Look for signs in the portal that a failover occurred  \r\n",
                "\r\n",
                "This notebook will guide you through getting ostress and a PowerShell notebook configured, and then you'll see how to use both together to initiate and analyze a failover of Azure SQL Database.  \r\n",
                "\r\n",
                ">Note: Learn more about the PowerShell commands used and availabile [in the documentation](https://docs.microsoft.com/en-us/azure/sql-database/sql-database-powershell-samples?tabs=single-database).  "
            ],
            "metadata": {
                "azdata_cell_guid": "920f1f34-a236-43b9-8395-c3e947ec94a7"
            }
        },
        {
            "cell_type": "markdown",
            "source": [
                "**Step 0 - Confirm environment is properly configured** \r\n",
                "\r\n",
                "In this step, there are 3 parts:  \r\n",
                "* Part A: Configure keyboard shortcut  \r\n",
                "* Part B: Confirm correct configuration of Az PowerShell Module  \r\n",
                "* Part C: Confirm correct configuration of ostress  "
            ],
            "metadata": {
                "azdata_cell_guid": "4abe9908-1f04-48d7-9ee5-6ec362463d4a"
            }
        },
        {
            "cell_type": "markdown",
            "source": [
                "\r\n",
                "\r\n",
                "**Part A: Configure keyboard shortcut**  \r\n",
                "\r\n",
                "\r\n",
                "The following gif summarizes how to open Keyboard Shortcuts to the right. After the gif, there are step-by-step instructions.  \r\n",
                "\r\n",
                "![](./graphics/shortcutgif.gif)   \r\n",
                "\r\n",
                "First, in Azure Data Studio, go to **File** > **Preferences** > **Keyboard Shortcuts**.  \r\n",
                "\r\n",
                "![](./graphics/keyboardshortcuts.png)  \r\n",
                "\r\n",
                "Once this is open, you may find it easier to drag the **Keyboard Shortcuts** tab to the right, providing a split view.  \r\n",
                "\r\n",
                "![](./graphics/splitview.png)  \r\n",
                "\r\n",
                "Next, search for `terminal: run` and select the **+** button next to \"Terminal: Run Selected Text in Active Terminal\". select **CTRL** + **t** and then press **ENTER**.  \r\n",
                "\r\n",
                "![](./graphics/ctrlt.png)  \r\n",
                "\r\n",
                "You should now see `CTRL + T` under \"Keybinding\" for \"Terminal: Run Selected Text in Active Terminal\".   \r\n",
                "\r\n",
                "![](./graphics/keyboardshortcuts2.png)  \r\n",
                "\r\n",
                "You can now **close the \"Keyboard Shortcuts\" tab**, which will give you some screen real estate back.  "
            ],
            "metadata": {
                "azdata_cell_guid": "2f0d4f1d-bc90-44f5-a1fb-d5d9d5639637"
            }
        },
        {
            "cell_type": "markdown",
            "source": [
                "**Part B: Confirm correct configuration of Az PowerShell Module**\r\n",
                "\r\n",
                "\r\n",
                "Confirm the [Az PowerShell Module](https://docs.microsoft.com/en-us/powershell/azure/install-az-ps?view=azps-3.4.00) is installed with version 3.4.0+. "
            ],
            "metadata": {
                "azdata_cell_guid": "f42af32c-13e0-45f8-b97f-b456c8adb37f"
            }
        },
        {
            "cell_type": "code",
            "source": [
                "Get-InstalledModule -Name Az -AllVersions | select Name,Version"
            ],
            "metadata": {
                "azdata_cell_guid": "660a1161-06e0-442a-b308-6fb6d82a6785"
            },
            "outputs": [
                {
                    "output_type": "stream",
                    "name": "stdout",
                    "text": "\nName Version\n---- -------\nAz   3.5.0  \n\n\n"
                }
            ],
            "execution_count": 1
        },
        {
            "cell_type": "markdown",
            "source": [
                "**Part C: Confirm correct configuration of ostress**\r\n",
                "\r\n",
                "Confirm [RMUtils tool (which contains ostress)](https://www.microsoft.com/en-us/download/details.aspx?id=4511) is installed and has been added to the Path. "
            ],
            "metadata": {
                "azdata_cell_guid": "6d151b7a-df3c-4c5a-a276-63f3259e90f1"
            }
        },
        {
            "cell_type": "code",
            "source": [
                "ostress"
            ],
            "metadata": {
                "azdata_cell_guid": "7f7c6ebc-c84d-42af-9a9d-b7d61a9979c6"
            },
            "outputs": [
                {
                    "output_type": "stream",
                    "name": "stdout",
                    "text": "OSTRESS, A Generic ODBC-Based Stress/Replay Utility.\nVersion 9.04.0051 built for x64.\nCopyright ■ 1997-2014 Microsoft. All Rights Reserved\n            Computer: win-vm01\n         Base Module: C:\\Program Files\\Microsoft Corporation\\RMLUtils\\ostress.exe\n          Process Id: 2188\n Active proc mask(0): 0x00000003\n        Architecture: 9\n           Page size: 4096\n                CPUs: 2\n    Processor groups: 1\n        Highest node: 0\n  Proximity: 00  Node: 00\n---------------------------------------\n               Group: 0\n---------------------------------------\n        Package mask: 0x00000003\n        Processor(s): 0x00000003 Function units: Shared\n        Processor(s): 0x00000003 assigned to Numa node: 0\nCurrent time bias: 0 minutes 0.00 hours DST not used \nNOTE: All command line arguments are case sensitive.  No space is allowed between the parameter switch and its specified value.\n\nUSAGE:\n\n  -S name of Microsoft SQL Server server to connect to\n  -D ODBC data source name to use for connection\n  -E use Windows auhentication to connect (default)\n  -U login ID\n  -P password\n  -d database name\n  -Q\"single batch query to process\"\n  -i SQL/RML file name or file wildcard to process\n  -n number of connections processing each input file/query - stress mode\n  -r number of iterations for each connection to execute its input file/query\n  -o output directory to write query results and log file\n  -l login timeout (sec)\n  -L integer value representing the language id\n  -t query timeout (sec)\n  -p network packet size for connections - SQL Server only\n  -q quiet mode; suppress all query output\n  -v verbose mode; show additional diagnostic output\n  -m [stress | replay] run in stress or replay mode\n  -a default password to use for SQL authentication during replay\n  -c control file name - required for replay mode\n  -T enable trace flag\n  -fx write query results as XML\n  -N disable \"OSTRESS exiting\" message\n  -M Advanced setting: max threads allowed, 0 is default setting.\n  -b Stop processing if an error is encountered during query execution.\n\nEXAMPLE: ostress -E -dpubs -Q\"select * from authors\"\nOSTRESS exiting due to error (-6)\n"
                }
            ],
            "execution_count": 2
        },
        {
            "cell_type": "markdown",
            "source": [
                "If either of the above cells fail, please revisit the prerequisites before continuing.  \r\n",
                "\r\n",
                "In the below cell, replace the `0406` with the unique Workshop ID (e.g. `0406`, `168563`, etc.) you are using for the workshop. Also, add your subscription ID and your SQL authentication password for the logical server.   \r\n",
                "\r\n",
                "> Note: If you have special characters in your password, you may need to escape them by placing a **`** before. For example, if my password is `$pass1w0rd`, I need to enter as **`$pass1w0rd**. Otherwise, you may have authentication issues in future steps.  "
            ],
            "metadata": {
                "azdata_cell_guid": "6abe1497-8822-481b-b0cf-35581ca21b4e"
            }
        },
        {
            "cell_type": "code",
            "source": [
                "# Cell A\r\n",
                "# Add your info\r\n",
                "$unique_id = \"0406\"\r\n",
                "$subscriptionId = \"subscriptionID\"\r\n",
                "$password = \"password\"\r\n",
                "\r\n",
                "# Do not modify\r\n",
                "$admin = \"cloudadmin\"\r\n",
                "$resourceGroup = \"azuresqlworkshop$($unique_id)\"\r\n",
                "$server = \"aw-server$($unique_id)\"\r\n",
                "$database = \"AdventureWorks$($unique_id)\"\r\n",
                "$serverFullName = \"$($server).database.windows.net\"\r\n",
                "Write-Host \"Variables Received\""
            ],
            "metadata": {
                "azdata_cell_guid": "6b2b94fd-470d-462e-bc9e-721a5b1f7b28",
                "tags": []
            },
            "outputs": [
                {
                    "name": "stdout",
                    "text": "Variables Received\n",
                    "output_type": "stream"
                }
            ],
            "execution_count": 4
        },
        {
            "cell_type": "markdown",
            "source": [
                "Now, run the following command to set the subscription within the notebook. "
            ],
            "metadata": {
                "azdata_cell_guid": "979e75ef-7c67-4306-8c9f-61392a1ff6b3"
            }
        },
        {
            "cell_type": "code",
            "source": [
                "# Cell B\r\n",
                "Set-AzContext -SubscriptionId $subscriptionId "
            ],
            "metadata": {
                "azdata_cell_guid": "241a155a-c6a1-4e8b-a20f-f9c83ae008dc",
                "tags": []
            },
            "outputs": [],
            "execution_count": null
        },
        {
            "cell_type": "markdown",
            "source": [
                "# DO NOT RUN THE NEXT CELL  \r\n",
                "## READ ALL THE INSTRUCTIONS BEFORE DOING ANYTHING WITH THE NEXT CELL\r\n",
                "\r\n",
                "**Step 1 - Run the ostress workload**  \r\n",
                "\r\n",
                "The next step is to create a long-running workload so you can see how a failover affects the ability to read/write data, and how long a failover takes in the General purpose service tier for Azure SQL Database.  \r\n",
                "\r\n",
                "The ostress workload below essentially connects and runs a simple query 50,000 times. Since this outputs essentially 50,000 results, running this in the Notebook is **not** a good idea. It will make the notebook huge, and you won't be able to run other cells (i.e. the failover command) while it is running.  \r\n",
                "\r\n",
                "Instead, you will use an Azure Data Studio trick to run certain cells in the integrated terminal in Azure Data Studio. You already set up this shortcut in **Step 0**.    \r\n",
                "\r\n",
                ""
            ],
            "metadata": {
                "azdata_cell_guid": "4db9aa26-4f07-44fe-8edf-e5d52efbace5"
            }
        },
        {
            "cell_type": "markdown",
            "source": [
                "Now things get interesting from a context-perspective. We want to run the ostress workload in the terminal, but the terminal maintains a separate context from the PowerShell notebook. That means the variables/configurations you set in the previous two cells, **have not been run in the terminal context**. In order to do this, for the two cells above, labeled **Cell A** and **Cell B** (with comments), click into the text. Then, select all the text (you can use `CTRL` + `a`) and use your new shortcut (use `CTRL` + `t`). You should see a terminal appear in the bottom section of your Azure Data Studio window, and you should see the results.  \r\n",
                "\r\n",
                "Now, you will do the same for the following cell below: Select all the text (you can use `CTRL` + `a`) and use your new shortcut (use `CTRL` + `t`) to run the ostress workload in your integrated terminal. **Do not use the \"Play\" button to run this cell - use the shortcut**.   \r\n",
                "\r\n",
                "If, at any time, you want to stop running the ostress workload before it is complete, you can go into the terminal and press `CTRL` + `c`.  \r\n",
                "\r\n",
                "If, at any time, you want to run the workload again in the terminal, you can use the same method (select all the text and use the shortcut).  \r\n",
                "\r\n",
                "> Note: If the ostress.exe command fails in the terminal, check your variables again. If you have special characters, you may need to escape them by placing a **`** before. For example, if my password is `$pass1w0rd`, I need to enter as **`$pass1w0rd**"
            ],
            "metadata": {
                "azdata_cell_guid": "b27378ed-2369-48b0-9b80-3b8e2fb90f47"
            }
        },
        {
            "cell_type": "code",
            "source": [
                "# Do not run in using the play button in the Notebook, select all and run in terminal with the shortcut created in the instructions.  \r\n",
                "ostress.exe -S\"$($serverFullName)\" -Q\"SELECT COUNT(*) FROM SalesLT.Customer\" -U\"$($admin)\" -d\"$($database)\" -P\"$($password)\" -n1 -r50000"
            ],
            "metadata": {
                "azdata_cell_guid": "49ecbd09-5cc6-4929-8151-f0b84a4bf83d"
            },
            "outputs": [],
            "execution_count": null
        },
        {
            "cell_type": "markdown",
            "source": [
                "**Step 2 - Use PowerShell to initiate a failover**  \r\n",
                "\r\n",
                "Run the following cell (using the \"Play\" button)."
            ],
            "metadata": {
                "azdata_cell_guid": "4ffd546f-ab5b-4fa8-b0f3-8c0d23bc47cd"
            }
        },
        {
            "cell_type": "code",
            "source": [
                "# create a failover\r\n",
                "Invoke-AzSqlDatabaseFailover -ResourceGroupName $resourceGroup `\r\n",
                "    -ServerName $server `\r\n",
                "    -DatabaseName $database"
            ],
            "metadata": {
                "azdata_cell_guid": "1d93bfb6-e9c3-41df-bfb1-92fc0ec296ca",
                "tags": []
            },
            "outputs": [
                {
                    "output_type": "stream",
                    "name": "stdout",
                    "text": ""
                }
            ],
            "execution_count": 5
        },
        {
            "cell_type": "markdown",
            "source": [
                "**Step 3 - Observe the results in ostress**  \r\n",
                "\r\n",
                "While this cell is running, you should observe any changes that appear in the terminal. You'll notice that while the failover occurs, for some time you cannot access the database. Once the failover completes, you can see the workload runs successfully again. The importance of retry logic in your application is very important, because if Azure decides to fail you over (for a number of reasons), you don't want your application to crash or become down for any longer than it takes for the failover to occur.  \r\n",
                "\r\n",
                "This tool to create a failover on command can be useful in certain scenarios. It's important to note that the service does throttle you from doing this too often. Press \"Play\" in the cell below to try to run the failover again.  "
            ],
            "metadata": {
                "azdata_cell_guid": "47eba5c0-64a3-432c-8b0c-0e029872b5c8"
            }
        },
        {
            "cell_type": "code",
            "source": [
                "# create a failover again\r\n",
                "Invoke-AzSqlDatabaseFailover -ResourceGroupName $resourceGroup `\r\n",
                "    -ServerName $server `\r\n",
                "    -DatabaseName $database"
            ],
            "metadata": {
                "azdata_cell_guid": "e00fe166-1896-45b4-aaa7-3e91c49cbdc8"
            },
            "outputs": [
                {
                    "output_type": "stream",
                    "name": "stdout",
                    "text": "Invoke-AzSqlDatabaseFailover : Long running operation failed with status 'Failed'. Additional Info:'There was a recent \nfailover on the database or pool if database belongs in an elastic pool.  At least 30 minutes must pass between \ndatabase failovers.'\nAt line:3 char:1\n+ Invoke-AzSqlDatabaseFailover -ResourceGroupName $resourceGroup `\n+ ~~~~~~~~~~~~~~~~~~~~~~~~~~~~~~~~~~~~~~~~~~~~~~~~~~~~~~~~~~~~~~~~\n    + CategoryInfo          : CloseError: (:) [Invoke-AzSqlDatabaseFailover], CloudException\n    + FullyQualifiedErrorId : Microsoft.Azure.Commands.Sql.Database.Cmdlet.InvokeAzureSqlDatabaseFailover\n \n"
                }
            ],
            "execution_count": 7
        },
        {
            "cell_type": "markdown",
            "source": [
                "You can now stop the workload by clicking on the terminal and selecting `CTRL` + `c`  \r\n",
                "\r\n",
                "And you can close the terminal by clicking the **X** in the top-right corner of the terminal.  "
            ],
            "metadata": {
                "azdata_cell_guid": "e1642bfc-5c11-4fa1-8061-897b26a06476"
            }
        },
        {
            "cell_type": "markdown",
            "source": [
                "## Save this file (File > Save or CTRL+S) for a future exercise."
            ],
            "metadata": {
                "azdata_cell_guid": "16b72317-4df5-4802-960b-2ff30b5bea95"
            }
        },
        {
            "cell_type": "markdown",
            "source": [
                "**(Bonus) Step 4 - Look for signs in the portal that a failover occurred**   \r\n",
                "\r\n",
                "You might be wondering, if there's a way to check if potentially a failover occurred. There is no clear \"Failover occurred\" message that exists today, however, checking the Resource Health can be a good indicator.  \r\n",
                "\r\n",
                "In the Azure portal, navigate to your Azure SQL Database, and in the left-hand menu, under \"Support + troubleshooting\", select **Resource Health**. Some time after a failover (can be 5-15 minutes), you may see a health event similar to below. This can indicate several things, but one is that something has happened and Azure has decided to failover. \r\n",
                "\r\n",
                "![](./graphics/healthhistory.png)"
            ],
            "metadata": {
                "azdata_cell_guid": "2ea54109-e02e-4d5e-acad-e8a73331ac53"
            }
        }
    ]
}