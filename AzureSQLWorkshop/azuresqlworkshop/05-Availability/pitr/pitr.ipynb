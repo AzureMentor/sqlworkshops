{
    "metadata": {
        "kernelspec": {
            "name": "powershell",
            "display_name": "PowerShell"
        },
        "language_info": {
            "name": "powershell",
            "codemirror_mode": "shell",
            "mimetype": "text/x-sh",
            "file_extension": ".ps1"
        }
    },
    "nbformat_minor": 2,
    "nbformat": 4,
    "cells": [
        {
            "cell_type": "markdown",
            "source": [
                "# Activity 2: Undo errors to a point in time\r\n",
                "\r\n",
                "#### <i>The Azure SQL Workshop - Module 5</i>\r\n",
                "\r\n",
                "<p style=\"border-bottom: 1px solid lightgrey;\"></p>\r\n",
                "\r\n",
                "In this activity, you'll see how a common error can be recovered using point in time restore (PITR). This is easy to do in the portal or programmatically, but in this activity you'll see how to do it with the Azure CLI through the Azure Cloud Shell.  \r\n",
                "\r\n",
                "\r\n",
                "**Set up**   \r\n",
                "\r\n",
                "0. You should have opened this file using Azure Data Studio. If you didn't, please refer to Module 2 Activity 3 in the readme.md file to get set up.  \r\n",
                "1. In the bar at the top of this screen, confirm or change the \"Kernel\" to **PowerShell**. This determines what language the code blocks in the file are. In this case, that language is PowerShell.  \r\n",
                "2. Confirming the Kernel is **PowerShell**, for \"Attach to\", it should read **localhost**.  \r\n",
                "\r\n",
                "Now that you're set up, you should read the text cells and \"Run\" the code cells by selecting the play button that appears in the left of a code cell when you hover over it.  \r\n",
                " \r\n",
                ""
            ],
            "metadata": {
                "azdata_cell_guid": "cfeaf504-99ef-4000-9481-88ac986f2e4b"
            }
        },
        {
            "cell_type": "markdown",
            "source": [
                "**Step 0 - Delete a database on *accident***  \r\n",
                "\r\n",
                "First, let's confirm that the table we'll *accidentally* delete does exist and have data in it. Let's take a look at some of the values in `SalesLT.OrderDetail`.  \r\n",
                "\r\n",
                "**Using SSMS**, run the following query and review the results.  \r\n",
                "\r\n",
                "```sql\r\n",
                "SELECT TOP 10 * from SalesLT.SalesOrderDetail\r\n",
                "```\r\n",
                "\r\n",
                "![](./graphics/salesdetailssms.png)  \r\n",
                "\r\n",
                "\r\n",
                "For whatever reason, let's create a scenario where someone accidentally deletes that table. Today, you will be that someone.  \r\n",
                "\r\n",
                "**Using SSMS**, run the following query.\r\n",
                "\r\n",
                "```sql\r\n",
                "DROP TABLE SalesLT.SalesOrderDetail\r\n",
                "```\r\n",
                "\r\n",
                "Also, copy the `Completion time`. For example, in the below image, you would copy `2020-01-31T17:15:18`  \r\n",
                "\r\n",
                "![](./graphics/completiontime.png)  \r\n",
                "\r\n",
                "Then, paste the completion time **AND THEN SUBTRACT 2 MINUTES** in the PowerShell cell below and run it, so you can refer to it later.  \r\n",
                "\r\n",
                ""
            ],
            "metadata": {
                "azdata_cell_guid": "0f550d3c-e7c0-4df9-957b-cfaa950cbbe7"
            }
        },
        {
            "cell_type": "markdown",
            "source": [
                "**Step 1 - Determine the time you need to go back to**   \r\n",
                "Before you go any further, it's important to understand the recommended process for doing point in time restore (PITR):  \r\n",
                "\r\n",
                "1. Determine the time that you need to go back to. This should be **before** the error or mistake took place.  \r\n",
                "1. Complete PITR via PowerShell or the Azure portal to go back to this time. This deploys a new database and restores a copy of your database, e.g. **AdventureWorks0406-copy**.  \r\n",
                "1. Confirm the new database (e.g. **AdventureWorks0406-copy**) is where you need to be.  \r\n",
                "1. Rename the original database, e.g. **AdventureWorks0406** to **AdventureWorks0406-old**.    \r\n",
                "1. Rename the new database to the original database name, e.g. **AdventureWorks0406-copy** to **AdventureWorks0406**.  \r\n",
                "1. Delete the original database, e.g. **AdventureWorks0406-old**.  \r\n",
                "\r\n",
                "In order to complete step 1, you need to know when the last \"good\" transaction occurred, before the \"bad\" on, so you can restore to before the \"bad\" transaction but after the last \"good\" one.  \r\n",
                "\r\n",
                "To do this, run the following query in **SSMS**, then note the completion time of the last good query run. In your case, it should be the `SELECT TOP 10 * FROM SalesLT.SalesOrderDetail`.  \r\n",
                "\r\n",
                "```sql\r\n",
                "SELECT dest.text, deqs.last_execution_time\r\n",
                "FROM sys.dm_exec_query_stats AS deqs\r\n",
                "  CROSS APPLY sys.dm_exec_sql_text(deqs.sql_handle) AS dest\r\n",
                "ORDER BY \r\n",
                "    deqs.last_execution_time DESC\r\n",
                "```\r\n",
                "\r\n",
                "It should be similar to below, but with a different date/time.  \r\n",
                "\r\n",
                "![](./graphics/lastgoodq.png)  \r\n",
                "\r\n",
                "You'll notice, in this example, the date/time is `2020-01-31 21:11:42.993`. The required format is slightly different. Update it using this example as a reference and to the definition of `$before_error_time`.  \r\n",
                "* SSMS format: `2020-01-31 21:11:42.993`\r\n",
                "* Required format: `2020-01-31T21:11:42.993`  \r\n",
                "\r\n",
                "The last part of this step is filling in your Subscription ID and database name information so the rest goes smoothly.  \r\n",
                "\r\n",
                ""
            ],
            "metadata": {
                "azdata_cell_guid": "0a78a603-f251-4ac2-aadd-3200353db5d0"
            }
        },
        {
            "cell_type": "code",
            "source": [
                "$before_error_time = \"2020-01-31T21:11:42.993\"\r\n",
                "\r\n",
                "$subscription_id = \"<SubscriptionIdHere>\"\r\n",
                "$unique_id = \"<WorkshopUserID>\"\r\n",
                "$database_name = \"AdventureWorks$($unique_id)\"\r\n",
                "$database_name_copy = \"$($database_name)-copy\"\r\n",
                "$database_name_old = \"$($database_name)-old\"\r\n",
                "$logical_server = \"aw-server$($unique_id)\"\r\n",
                "$resource_group = \"azuresqlworkshop$($unique_id)\""
            ],
            "metadata": {
                "azdata_cell_guid": "e66b65ce-c896-4457-97c4-9554c94d2aef",
                "tags": []
            },
            "outputs": [],
            "execution_count": 19
        },
        {
            "cell_type": "markdown",
            "source": [
                "**Step 2 - Complete PITR using the Azure CLI**  \r\n",
                "\r\n",
                "In the next step you'll use `az cli db restore` to restore to before the table was deleted.  \r\n",
                "\r\n",
                ""
            ],
            "metadata": {
                "azdata_cell_guid": "99d7b0f5-9405-46e5-93ff-5129f79d6227"
            }
        },
        {
            "cell_type": "markdown",
            "source": [
                "First we want to make sure we're logged in and set up to use the Azure CLI locally. "
            ],
            "metadata": {
                "azdata_cell_guid": "9fbe71ed-ccf8-4d9a-934a-a5874a080ccf"
            }
        },
        {
            "cell_type": "code",
            "source": [
                "# Log in to the Azure portal with your workshop credentials\r\n",
                "# You may get an error initially, run again, and you should get a pop-up that directs you through authenticating\r\n",
                "az login"
            ],
            "metadata": {
                "azdata_cell_guid": "12d396b2-92c4-483b-a741-b9aa84807d29",
                "tags": []
            },
            "outputs": [],
            "execution_count": 14
        },
        {
            "cell_type": "code",
            "source": [
                "# Specify your subscription for the workshop\r\n",
                "az account set --subscription $subscription_id\r\n",
                "\r\n",
                "# Confirm you're connected to the correct subscription\r\n",
                "az account show"
            ],
            "metadata": {
                "azdata_cell_guid": "da44d206-65f3-4749-b186-364ee211b766",
                "tags": []
            },
            "outputs": [],
            "execution_count": 21
        },
        {
            "cell_type": "code",
            "source": [
                "# Specify your default subscription, resource group, and Azure SQL Database logical server\r\n",
                "az configure --defaults group=$resource_group sql-server=$logical_server"
            ],
            "metadata": {
                "azdata_cell_guid": "e91e1c9a-7175-45e0-879b-0f6ef150db3c",
                "tags": []
            },
            "outputs": [],
            "execution_count": 3
        },
        {
            "cell_type": "markdown",
            "source": [
                "This next command will take about 10 minutes. This is because, in the background, Azure is deploying a new Azure SQL Database in your Azure SQL Database logical server that has all the same configuration options as the original. After it's deployed, it will then restore the database into that new Azure SQL Database.  \r\n",
                "\r\n",
                "After about 6-8 minutes, you may be able to refresh your view of databases in **SSMS** and see that the database has been deployed and the restore is now in progress.  \r\n",
                "\r\n",
                "![](./graphics/dbrestoring.png)  \r\n",
                "\r\n",
                "Once you see this, it should only be 1-2 minutes more. You will know it is done, because the \"stop\" like button in the code cell below will stop spinning and go back to the standard \"play\" like button.  "
            ],
            "metadata": {
                "azdata_cell_guid": "fec1c2b9-9af9-4b41-81c8-365031d6021f"
            }
        },
        {
            "cell_type": "code",
            "source": [
                "# Restore the database to the time before the database was deleted\r\n",
                "az sql db restore --dest-name $database_name_copy --name $database_name --time $before_error_time"
            ],
            "metadata": {
                "azdata_cell_guid": "828e608f-fadd-40a7-8ac2-1f5394a81412"
            },
            "outputs": [],
            "execution_count": 23
        },
        {
            "cell_type": "markdown",
            "source": [
                "TODO WHILE YOU WAIT"
            ],
            "metadata": {
                "azdata_cell_guid": "5770ca8c-856f-4fb0-b134-f583d6707381"
            }
        },
        {
            "cell_type": "markdown",
            "source": [
                "**Step 3 - Confirm the new database is where you need to be**\r\n",
                "\r\n",
                "In order to do this, refresh your connection to the Azure SQL Database logical server in SSMS (right-click on the logical server and select **Refresh**).  \r\n",
                "\r\n",
                "Then, right-click on your new database, e.g. **AdventureWorks0406-copy** and select **New Query**.  \r\n",
                "\r\n",
                "![](./graphics/newnewquery.png)  \r\n",
                "\r\n",
                "Use the following query to confirm the table exists.  \r\n",
                "\r\n",
                "```sql\r\n",
                "SELECT TOP 10 * from SalesLT.SalesOrderDetail\r\n",
                "```\r\n",
                "You should get something similar to the following screenshot, which confirms your database has been restored to where you want it to be.    \r\n",
                "\r\n",
                "![](./graphics/salesdetailssms.png)  \r\n",
                "\r\n",
                "\r\n",
                ""
            ],
            "metadata": {
                "azdata_cell_guid": "b4afdd5e-130c-4dea-a246-8905b9055831"
            }
        },
        {
            "cell_type": "markdown",
            "source": [
                "**Step 4 - Rename the original database**  \r\n",
                "\r\n",
                "This step involves renaming the original database to something similar to **AdventureWorks0406-old** so you can later rename the new database to the original database name. As long as your applications use retry logic, this will make it so no connection strings need to be changed.  \r\n",
                "\r\n",
                "Now, you're very familiar with how to rename databases in SSMS, but here you will see how it can be easily done using the Azure CLI.  "
            ],
            "metadata": {
                "azdata_cell_guid": "0dfb6493-4a9d-450c-8ae8-d9dfe11b744f"
            }
        },
        {
            "cell_type": "code",
            "source": [
                "az sql db rename --name $database_name --new-name $database_name_old"
            ],
            "metadata": {
                "azdata_cell_guid": "f2a96ef9-d39c-4f16-af2d-d41adb56403e"
            },
            "outputs": [],
            "execution_count": 27
        },
        {
            "cell_type": "markdown",
            "source": [
                "**Step 5 - Rename the new database to the original database name**  \r\n",
                "\r\n",
                "Now that the original database name is no longer taken, you can rename the copy database to that of the original, again using the Azure CLI.  \r\n",
                ""
            ],
            "metadata": {
                "azdata_cell_guid": "8c6edfb6-f3e5-4a62-9082-5d9991e89ad1"
            }
        },
        {
            "cell_type": "code",
            "source": [
                "az sql db rename --name $database_name_copy --new-name $database_name"
            ],
            "metadata": {
                "azdata_cell_guid": "dd42263b-5296-4ae8-9d69-a2c1cd2b2e1f"
            },
            "outputs": [],
            "execution_count": 5
        },
        {
            "cell_type": "markdown",
            "source": [
                "**Step 6 - Delete the original database**  \r\n",
                "\r\n",
                "Finally, you have no need for the old database, so you can delete it with `az sql db delete`.  \r\n",
                ""
            ],
            "metadata": {
                "azdata_cell_guid": "2c86884d-ba69-4b30-ae06-98c15d8a4e4c"
            }
        },
        {
            "cell_type": "code",
            "source": [
                "az sql db delete --name $database_name_old --yes"
            ],
            "metadata": {
                "azdata_cell_guid": "86e9abb5-8db7-460c-ac20-b730a0db7b40"
            },
            "outputs": [],
            "execution_count": 9
        },
        {
            "cell_type": "markdown",
            "source": [
                "And you can confirm it no longer exists with the following command."
            ],
            "metadata": {
                "azdata_cell_guid": "ff220914-8349-455d-9c7f-aa29612fa312"
            }
        },
        {
            "cell_type": "code",
            "source": [
                "az sql db list"
            ],
            "metadata": {
                "azdata_cell_guid": "18ef1258-ace5-481c-b3a7-b6962894d2cc"
            },
            "outputs": [],
            "execution_count": 25
        },
        {
            "cell_type": "markdown",
            "source": [
                "You've now seen how you can leverage point in time restore (PITR) in Azure SQL Database. PITR is also available in Azure SQL Managed Instance, **for databases not the whole instance**. You can use almost the same commands except with `az sql midb` as opposed to `az sql db`. For more information, see the [documentation](https://docs.microsoft.com/en-us/cli/azure/sql/midb?view=azure-cli-latest#az-sql-midb-restore)."
            ],
            "metadata": {
                "azdata_cell_guid": "057514b2-bcdd-4624-8b95-c8ecd829ae07"
            }
        }
    ]
}