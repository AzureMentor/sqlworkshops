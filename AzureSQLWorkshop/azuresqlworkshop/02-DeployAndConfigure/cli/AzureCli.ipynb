{
    "metadata": {
        "kernelspec": {
            "name": "powershell",
            "display_name": "PowerShell"
        },
        "language_info": {
            "name": "powershell",
            "codemirror_mode": "shell",
            "mimetype": "text/x-sh",
            "file_extension": ".ps1"
        }
    },
    "nbformat_minor": 2,
    "nbformat": 4,
    "cells": [
        {
            "cell_type": "markdown",
            "source": [
                "# Activity 4: Azure CLI - Azure SQL Database\r\n",
                "\r\n",
                "#### <i>The Azure SQL Workshop - Module 2</i>\r\n",
                "\r\n",
                "<p style=\"border-bottom: 1px solid lightgrey;\"></p>\r\n",
                "\r\n",
                "In this activity, you'll walk through getting set up with the Azure CLI, using a PowerShell notebook in ADS.  \r\n",
                "\r\n",
                "> Note: in PowerShell notebooks, you can use the PowerShell Az module or the Azure CLI. In this activity, you'll explore the Azure CLI, but you should know there are similar commands available for the [PowerShell Az module](https://docs.microsoft.com/en-us/powershell/azure/new-azureps-module-az?view=azps-3.5.0).  \r\n",
                "\r\n",
                "\r\n",
                "**Set up**   \r\n",
                "\r\n",
                "0. You should have opened this file using Azure Data Studio. If you didn't, please refer to Module 2 Activity 3 in the main Module file to get set up.  \r\n",
                "1. In the bar at the top of this screen, confirm or change the \"Kernel\" to **PowerShell**. This determines what language the code blocks in the file are. In this case, that language is PowerShell.  \r\n",
                "2. Confirming the Kernel is **PowerShell**, for \"Attach to\", confirm it reads **localhost**.  \r\n",
                "\r\n",
                "Now that you're set up, you should read the text cells and \"Run\" the code cells by selecting the play button that appears in the left of a code cell when you hover over it.  \r\n",
                "> Some of the cells have been run before, this is just to show you the expected result from the testing of the labs. If you choose not to complete the labs/prerequisites, do not run any cells, just review the results.      \r\n",
                ""
            ],
            "metadata": {
                "azdata_cell_guid": "cfeaf504-99ef-4000-9481-88ac986f2e4b"
            }
        },
        {
            "cell_type": "code",
            "source": [
                "# Log in to the Azure portal with the Azure account (email address) and password you're using for the workshop\r\n",
                "# You may get an error initially, run again, and you should get a pop-up that directs you through authenticating\r\n",
                "az login"
            ],
            "metadata": {
                "azdata_cell_guid": "12d396b2-92c4-483b-a741-b9aa84807d29",
                "tags": []
            },
            "outputs": [],
            "execution_count": null
        },
        {
            "cell_type": "code",
            "source": [
                "# Specify your subscription for the workshop\r\n",
                "# Should appear in the list of subscriptions output in previous cell under \"id\" \r\n",
                "az account set --subscription <subscription-ID>"
            ],
            "metadata": {
                "azdata_cell_guid": "da44d206-65f3-4749-b186-364ee211b766"
            },
            "outputs": [
                {
                    "name": "stdout",
                    "text": "",
                    "output_type": "stream"
                }
            ],
            "execution_count": 2
        },
        {
            "cell_type": "code",
            "source": [
                "# Specify your default subscription, resource group, and Azure SQL Database logical server\r\n",
                "# Replace ID with your ID for the workshop\r\n",
                "az configure --defaults group=azuresqlworkshopID sql-server=aw-serverID"
            ],
            "metadata": {
                "azdata_cell_guid": "e91e1c9a-7175-45e0-879b-0f6ef150db3c",
                "tags": []
            },
            "outputs": [
                {
                    "name": "stdout",
                    "text": "",
                    "output_type": "stream"
                }
            ],
            "execution_count": 4
        },
        {
            "cell_type": "markdown",
            "source": [
                "Now that you've got your details plugged in, let's see what you can do with the Azure CLI."
            ],
            "metadata": {
                "azdata_cell_guid": "fec1c2b9-9af9-4b41-81c8-365031d6021f"
            }
        },
        {
            "cell_type": "code",
            "source": [
                "# Show all databases in the Azure SQL Database logical server\r\n",
                "az sql db list"
            ],
            "metadata": {
                "azdata_cell_guid": "828e608f-fadd-40a7-8ac2-1f5394a81412"
            },
            "outputs": [],
            "execution_count": null
        },
        {
            "cell_type": "markdown",
            "source": [
                "There's a lot of information above. What if we just want to see specifics for the AdventureWorksID database?\r\n",
                ">Note: Replace ID in the command with your unique ID you've been using for the workshop."
            ],
            "metadata": {
                "azdata_cell_guid": "1ba01e77-11a9-4bfe-8fdb-537aff47fe38"
            }
        },
        {
            "cell_type": "code",
            "source": [
                "az sql db show --name AdventureWorksID"
            ],
            "metadata": {
                "azdata_cell_guid": "85457b28-ac25-40a1-8dea-5cd1ca8a70f2"
            },
            "outputs": [],
            "execution_count": null
        },
        {
            "cell_type": "markdown",
            "source": [
                "You can also determine the database size and usage."
            ],
            "metadata": {
                "azdata_cell_guid": "9439704f-73d5-4c60-a422-233e2062dcff"
            }
        },
        {
            "cell_type": "code",
            "source": [
                "az sql db list-usages --name AdventureWorksID"
            ],
            "metadata": {
                "azdata_cell_guid": "ae511ce4-3a1c-4d4b-bef9-7ba77e281af6"
            },
            "outputs": [
                {
                    "name": "stdout",
                    "text": "[\n  {\n    \"currentValue\": 12582912.0,\n    \"displayName\": \"Database Size\",\n    \"limit\": 34359738368.0,\n    \"name\": \"database_size\",\n    \"nextResetTime\": null,\n    \"resourceName\": \"AdventureWorks168563\",\n    \"unit\": \"Bytes\"\n  },\n  {\n    \"currentValue\": 16777216.0,\n    \"displayName\": \"Database Allocated Size\",\n    \"limit\": 34359738368.0,\n    \"name\": \"database_allocated_size\",\n    \"nextResetTime\": null,\n    \"resourceName\": \"AdventureWorks168563\",\n    \"unit\": \"Bytes\"\n  }\n]\n",
                    "output_type": "stream"
                }
            ],
            "execution_count": 7
        },
        {
            "cell_type": "markdown",
            "source": [
                "You've now seen a few examples for how the `az sql db` commands work. There are also commands related to the Azure SQL Database logical server, and these fall under `az sql server`.  \r\n",
                "\r\n",
                ">There are also similar commands for `az sql mi` and `az sql midb` (commands for databases within a Managed Instance, sometimes referred to as \"Managed Databases\").  \r\n",
                "\r\n",
                "For detailed explanations of all the commands available, refer to the [Azure CLI documentation](https://docs.microsoft.com/en-us/cli/azure/?view=azure-cli-latest)."
            ],
            "metadata": {
                "azdata_cell_guid": "5b89db1e-cf88-4085-a375-b07a34364ab0"
            }
        },
        {
            "cell_type": "markdown",
            "source": [
                "## Example: Managing connection policies\r\n",
                "\r\n",
                "One thing thing that you might use the Azure CLI or Azure PowerShell commands for is updating the connection policy. We'll use this as an example for how you can manage Azure SQL using a tool like the Azure CLI. In this example, you'll look at Azure SQL Database and its commands, but the implementation is very similar in Azure SQL Managed Instance.  \r\n",
                "\r\n",
                ""
            ],
            "metadata": {
                "azdata_cell_guid": "ea9aecbd-5699-42bc-8994-d91082a2e960"
            }
        },
        {
            "cell_type": "markdown",
            "source": [
                "### Overview: Connection policies\r\n",
                "\r\n",
                "During deployment, in Azure SQL MI you're able to choose the connection type or policy. In Azure SQL DB, you can choose the connection type, but only via PowerShell or Azure CLI after deployment. You can keep the default (Proxy for connections from outside and Redirect for connections within Azure) or something else. At the highest level, in Proxy mode, all connections are proxied through the Azure SQL Database gateways, but in Redirect mode, after the connection is established leveraging the gateway, the connection is directly to the database or managed instance. The direct connection (redirect) allows for reduced latency and improved throughput, but also requires opening up additional ports (allowing inbound and outbound communication in the range of 11000 - 11999).    \r\n",
                "\r\n",
                "> More information on connectivity for Azure SQL DB can be found [here](https://docs.microsoft.com/en-us/azure/sql-database/sql-database-connectivity-architecture) and for Azure SQL MI [here](https://docs.microsoft.com/en-us/azure/sql-database/sql-database-managed-instance-connectivity-architecture).  \r\n",
                "\r\n",
                "Let's see what the current policy is using the Azure CLI."
            ],
            "metadata": {
                "azdata_cell_guid": "b421695a-beb9-4d0c-abd1-2abc0986c5db"
            }
        },
        {
            "cell_type": "code",
            "source": [
                "az sql server conn-policy show"
            ],
            "metadata": {
                "azdata_cell_guid": "1af59f8b-afe3-43c5-863d-3549f06871ed"
            },
            "outputs": [],
            "execution_count": null
        },
        {
            "cell_type": "markdown",
            "source": [
                "So the results above tell us the connection type is \"Default\". Let's set it to \"Proxy\" and determine the round trip time."
            ],
            "metadata": {
                "azdata_cell_guid": "57406599-f0e7-4862-ae96-feb2bf4b3d04"
            }
        },
        {
            "cell_type": "code",
            "source": [
                "# update policy\r\n",
                "az sql server conn-policy update --connection-type Proxy\r\n",
                "# confirm update\r\n",
                "az sql server conn-policy show"
            ],
            "metadata": {
                "azdata_cell_guid": "5114ebd7-b37d-4cd8-abbc-4a00ba77f798"
            },
            "outputs": [],
            "execution_count": null
        },
        {
            "cell_type": "markdown",
            "source": [
                "If you want to test round trip time, you can connect with SSMS, create a new query (below), and choose to \"Include Client Statistics\" in your results. Be sure to right-click on the database and select **New Query**. In the results, the \"Wait time on server replies\" is the best indicator of network latency. You can run this a few times to get a good average.  \r\n",
                "\r\n",
                "```sql\r\n",
                "-- Proxy\r\n",
                "SELECT * FROM SalesLT.Product\r\n",
                "GO 20\r\n",
                "```\r\n",
                "\r\n",
                "After 10 trials, I had an average wait time on server replies of `46.6000`"
            ],
            "metadata": {
                "azdata_cell_guid": "77286271-b423-407a-9b8e-4c96d80b6d0e"
            }
        },
        {
            "cell_type": "markdown",
            "source": [
                "What if we want to make everything `Redirect` so we can attempt to achieve reduced latency?\r\n",
                "\r\n",
                "First, for anything that is **outside Azure**, you need to allow inbound and outbound communication on ports in the range of 11000 - 11999. This is required for the Redirect connection policy. Since you are connecting through an Azure VM, there is no action here.  \r\n",
                "\r\n",
                "Update the connection policy and confirm that update with the following two commands.  "
            ],
            "metadata": {
                "azdata_cell_guid": "7eb584ef-cc42-4dc8-920d-1b049f33fe0c"
            }
        },
        {
            "cell_type": "code",
            "source": [
                "# update policy\r\n",
                "az sql server conn-policy update --connection-type Redirect\r\n",
                "# confirm update\r\n",
                "az sql server conn-policy show"
            ],
            "metadata": {
                "azdata_cell_guid": "c540779a-9c4d-472f-8ddc-6fc59b8437d4"
            },
            "outputs": [],
            "execution_count": null
        },
        {
            "cell_type": "markdown",
            "source": [
                "Now, to test network latency from the `Redirect` policy, connect with SSMS, create a new query (below), and choose to \"Include Client Statistics\" in your results. Compare the \"Wait time on server replies\" with your query for `Proxy`.  \r\n",
                "\r\n",
                "> Note: you'll need to create a **new connection to query** to evaluate (i.e. right-click on the Adventure Works database and select New Query, do not use the query window you used to test Proxy).\r\n",
                "\r\n",
                "```sql\r\n",
                "-- Redirect\r\n",
                "SELECT * FROM SalesLT.Product\r\n",
                "GO 20\r\n",
                "```\r\n",
                "\r\n",
                "After 10 trials, I have an average wait time on server replies of `25.8000`, which is almost half that of the Proxy connection policy.   \r\n",
                "\r\n",
                "### To review\r\n",
                "\r\n",
                "Redirect is faster because after the intial connection, you can bypass the gateway and go straight to the database. This means less hops, which results in less latency, which ultimately helps in preventing bottlenecks (especially important for chatty applications).\r\n",
                "\r\n",
                ""
            ],
            "metadata": {
                "azdata_cell_guid": "1b519a96-f1ea-4454-a081-2a7ffc28c38a"
            }
        },
        {
            "cell_type": "markdown",
            "source": [
                "Set it back to default for future activities, by using the same set of commands."
            ],
            "metadata": {
                "azdata_cell_guid": "45a85215-ed6c-447f-8c06-7f59220e9915"
            }
        },
        {
            "cell_type": "code",
            "source": [
                "# update policy\r\n",
                "az sql server conn-policy update --connection-type Default\r\n",
                "# confirm update\r\n",
                "az sql server conn-policy show"
            ],
            "metadata": {
                "azdata_cell_guid": "34f23b31-0252-436f-abdb-f0b7208f44b7"
            },
            "outputs": [],
            "execution_count": null
        }
    ]
}