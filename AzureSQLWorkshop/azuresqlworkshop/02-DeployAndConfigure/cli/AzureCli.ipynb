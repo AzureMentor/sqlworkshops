{
    "metadata": {
        "kernelspec": {
            "name": "powershell",
            "display_name": "PowerShell"
        },
        "language_info": {
            "name": "powershell",
            "codemirror_mode": "shell",
            "mimetype": "text/x-sh",
            "file_extension": ".ps1"
        }
    },
    "nbformat_minor": 2,
    "nbformat": 4,
    "cells": [
        {
            "cell_type": "markdown",
            "source": [
                "# Activity 4: Azure CLI - Azure SQL Database\r\n",
                "\r\n",
                "#### <i>The Azure SQL Workshop - Module 2</i>\r\n",
                "\r\n",
                "<p style=\"border-bottom: 1px solid lightgrey;\"></p>\r\n",
                "\r\n",
                "In this activity, you'll walk through getting set up with the Azure CLI, using a PowerShell notebook in ADS.  \r\n",
                "\r\n",
                "\r\n",
                "**Set up**   \r\n",
                "\r\n",
                "0. You should have opened this file using Azure Data Studio. If you didn't, please refer to Module 2 Activity 3 in the readme.md file to get set up.  \r\n",
                "1. In the bar at the top of this screen, confirm or change the \"Kernel\" to **PowerShell**. This determines what language the code blocks in the file are. In this case, that language is SQL.  \r\n",
                "2. You may be prompted to install Python, if you are select **New Python Installation**. This may take a few minutes, you'll see the output in a window that appears at the bottom of ADS.\r\n",
                "TODO THIS TAKES ~5 minutes. \r\n",
                "2. Confirming the Kernel is **PowerShell**, for \"Attach to\", confirm it reads **localhost**.  \r\n",
                "\r\n",
                "Now that you're set up, you should read the text cells and \"Run\" the code cells by selecting the play button that appears in the left of a code cell when you hover over it.  \r\n",
                "> Some of the cells have been run before, this is just to show you the expected result from the testing of the labs. If you choose not to complete the labs/prerequisites, do not run any cells, just review the results.      \r\n",
                ""
            ],
            "metadata": {
                "azdata_cell_guid": "cfeaf504-99ef-4000-9481-88ac986f2e4b"
            }
        },
        {
            "cell_type": "code",
            "source": [
                "# Log in to the Azure portal with your workshop credentials\r\n",
                "# You may get an error initially, run again, and you should get a pop-up that directs you through authenticating\r\n",
                "az login"
            ],
            "metadata": {
                "azdata_cell_guid": "12d396b2-92c4-483b-a741-b9aa84807d29",
                "tags": []
            },
            "outputs": [],
            "execution_count": 1
        },
        {
            "cell_type": "code",
            "source": [
                "# Specify your subscription for the workshop\r\n",
                "az account set --subscription <subscription-ID>"
            ],
            "metadata": {
                "azdata_cell_guid": "da44d206-65f3-4749-b186-364ee211b766"
            },
            "outputs": [],
            "execution_count": 2
        },
        {
            "cell_type": "code",
            "source": [
                "# Specify your default subscription, resource group, and Azure SQL Database logical server\r\n",
                "az configure --defaults group=azuresqlworkshop0406 sql-server=aw-server0406"
            ],
            "metadata": {
                "azdata_cell_guid": "e91e1c9a-7175-45e0-879b-0f6ef150db3c",
                "tags": []
            },
            "outputs": [],
            "execution_count": 3
        },
        {
            "cell_type": "markdown",
            "source": [
                "Now that you've got your details plugged in, let's see what you can do with the Azure CLI."
            ],
            "metadata": {
                "azdata_cell_guid": "fec1c2b9-9af9-4b41-81c8-365031d6021f"
            }
        },
        {
            "cell_type": "code",
            "source": [
                "# Show all databases in the Azure SQL Database logical server\r\n",
                "az sql db list"
            ],
            "metadata": {
                "azdata_cell_guid": "828e608f-fadd-40a7-8ac2-1f5394a81412"
            },
            "outputs": [],
            "execution_count": 4
        },
        {
            "cell_type": "markdown",
            "source": [
                "There's a lot of information above. What if we just want to see specifics for the AdventureWorksID database?\r\n",
                ">Note: Replace ID in the command with your unique ID you've been using for the workshop."
            ],
            "metadata": {
                "azdata_cell_guid": "1ba01e77-11a9-4bfe-8fdb-537aff47fe38"
            }
        },
        {
            "cell_type": "code",
            "source": [
                "az sql db show --name AdventureWorks0406"
            ],
            "metadata": {
                "azdata_cell_guid": "85457b28-ac25-40a1-8dea-5cd1ca8a70f2"
            },
            "outputs": [],
            "execution_count": 5
        },
        {
            "cell_type": "markdown",
            "source": [
                "You can also determine the usage."
            ],
            "metadata": {
                "azdata_cell_guid": "9439704f-73d5-4c60-a422-233e2062dcff"
            }
        },
        {
            "cell_type": "code",
            "source": [
                "az sql db list-usages --name AdventureWorks0406"
            ],
            "metadata": {
                "azdata_cell_guid": "ae511ce4-3a1c-4d4b-bef9-7ba77e281af6"
            },
            "outputs": [
                {
                    "output_type": "stream",
                    "name": "stdout",
                    "text": "[\n  {\n    \"currentValue\": 29360128.0,\n    \"displayName\": \"Database Size\",\n    \"limit\": 34359738368.0,\n    \"name\": \"database_size\",\n    \"nextResetTime\": null,\n    \"resourceName\": \"AdventureWorks0406\",\n    \"unit\": \"Bytes\"\n  },\n  {\n    \"currentValue\": 33554432.0,\n    \"displayName\": \"Database Allocated Size\",\n    \"limit\": 34359738368.0,\n    \"name\": \"database_allocated_size\",\n    \"nextResetTime\": null,\n    \"resourceName\": \"AdventureWorks0406\",\n    \"unit\": \"Bytes\"\n  }\n]\n"
                }
            ],
            "execution_count": 7
        },
        {
            "cell_type": "markdown",
            "source": [
                "You've now seen a few examples for how the `az sql db` commands work. There are also commands related to the Azure SQL Database logical server, and these fall under `az sql server`.  \r\n",
                "\r\n",
                ">There are also similar commands for `az sql mi` and `az sql midb` (commands for databases within a Managed Instance, sometimes referred to as \"Managed Databases\").  \r\n",
                "\r\n",
                "For detailed explanations of all the commands available, refer to the [Azure CLI documentation](https://docs.microsoft.com/en-us/cli/azure/?view=azure-cli-latest)."
            ],
            "metadata": {
                "azdata_cell_guid": "5b89db1e-cf88-4085-a375-b07a34364ab0"
            }
        },
        {
            "cell_type": "markdown",
            "source": [
                "## Example: Managing connection policies\r\n",
                "\r\n",
                "One thing thing that you might use the Azure CLI or Azure PowerShell commands for is updating the connection policy. We'll use this as an example for how you can manage Azure SQL using a tool like the Azure CLI. In this example, you'll look at Azure SQL Database and its commands, but the implementation is very similar in Azure SQL Managed Instance.  \r\n",
                "\r\n",
                ""
            ],
            "metadata": {
                "azdata_cell_guid": "ea9aecbd-5699-42bc-8994-d91082a2e960"
            }
        },
        {
            "cell_type": "markdown",
            "source": [
                "### Overview: Connection policies\r\n",
                "\r\n",
                "During deployment, in Azure SQL MI you're able to choose the connection type or policy. In Azure SQL DB, you can choose the connection type, but only via PowerShell or Azure CLI after deployment. You can keep the default (Proxy for connections from outside and Redirect for connections within Azure) or something else. At the highest level, in Proxy mode, all connections are proxied through the Azure SQL Database gateways, but in Redirect mode, after the connection is established leveraging the gateway, the connection is directly to the database or managed instance. The direct connection (redirect) allows for reduced latency and improved throughput, but also requires opening up additional ports (allowing inbound and outbound communication in the range of 11000 - 11999).    \r\n",
                "\r\n",
                "> More information on connectivity for Azure SQL DB can be found [here](https://docs.microsoft.com/en-us/azure/sql-database/sql-database-connectivity-architecture) and for Azure SQL MI [here](https://docs.microsoft.com/en-us/azure/sql-database/sql-database-managed-instance-connectivity-architecture).  \r\n",
                "\r\n",
                "Let's see what the current policy is using the Azure CLI."
            ],
            "metadata": {
                "azdata_cell_guid": "b421695a-beb9-4d0c-abd1-2abc0986c5db"
            }
        },
        {
            "cell_type": "code",
            "source": [
                "az sql server conn-policy show"
            ],
            "metadata": {
                "azdata_cell_guid": "1af59f8b-afe3-43c5-863d-3549f06871ed"
            },
            "outputs": [],
            "execution_count": 8
        },
        {
            "cell_type": "markdown",
            "source": [
                "So the results above tell us the connection type is \"Default\". What if we want to make everything `Redirect` so we can achieve reduced latency? It's as easy as running two commands.  \r\n",
                "\r\n",
                "First, we need to update the firewall rules to allow the required ports."
            ],
            "metadata": {
                "azdata_cell_guid": "7eb584ef-cc42-4dc8-920d-1b049f33fe0c"
            }
        },
        {
            "cell_type": "code",
            "source": [
                "az sql server firewall-rule create -n NewRule --start-ip-address 11000 --end-ip-address 11999 # ?????????????????????????????????????????????????????????????"
            ],
            "metadata": {
                "azdata_cell_guid": "af7d38e8-5cb8-4ef1-8718-b871403943ca"
            },
            "outputs": [],
            "execution_count": 0
        },
        {
            "cell_type": "markdown",
            "source": [
                "Then, we can update the connection policy"
            ],
            "metadata": {
                "azdata_cell_guid": "fe00029a-e099-47f3-932f-7e62c4e4e9ee"
            }
        },
        {
            "cell_type": "code",
            "source": [
                "# update policy\r\n",
                "az sql server conn-policy update --connection-type Redirect\r\n",
                "# confirm update\r\n",
                "az sql server conn-policy show"
            ],
            "metadata": {
                "azdata_cell_guid": "c540779a-9c4d-472f-8ddc-6fc59b8437d4"
            },
            "outputs": [],
            "execution_count": 0
        }
    ]
}